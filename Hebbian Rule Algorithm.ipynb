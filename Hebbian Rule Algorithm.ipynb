{
 "cells": [
  {
   "cell_type": "code",
   "execution_count": 7,
   "id": "dfe133f2",
   "metadata": {},
   "outputs": [],
   "source": [
    "def hebbian_learning(samples):\n",
    "     print(f'{\"INPUT\":^8} {\"TARGET\":^16}{\"WEIGHT CHANGES\":^15}{\"WEIGHTS\":^25}')\n",
    "     w1, w2, b = 0, 0, 0\n",
    "     print(' ' * 45, f'({w1:2}, {w2:2}, {b:2})')\n",
    "     for x1, x2, y in samples:\n",
    "         w1 = w1 + x1 * y\n",
    "         w2 = w2 + x2 * y\n",
    "         b = b + y\n",
    "         print('({x1:2}, {x2:2}) {y:2} ({x1 y:2}, {x2 y:2}, {y:2}) ({w1:2}, {w2:2}, {b:2})')\n",
    "        "
   ]
  },
  {
   "cell_type": "code",
   "execution_count": 8,
   "id": "f7b800bb",
   "metadata": {},
   "outputs": [],
   "source": [
    "AND_samples = {\n",
    "    'binary_input_binary_output': [\n",
    "        [1, 1, 1],\n",
    "        [1, 0, 0],\n",
    "        [0, 1, 0],\n",
    "        [0, 0, 0]\n",
    "    ],\n",
    "    'binary_input_bipolar_output': [\n",
    "        [1, 1, 1],\n",
    "        [1, 0, -1],\n",
    "        [0, 1, -1],\n",
    "        [0, 0, -1]\n",
    "    ],\n",
    "    'bipolar_input_bipolar_output': [\n",
    "        [ 1, 1, 1],\n",
    "        [ 1, -1, -1],\n",
    "        [-1, 1, -1],\n",
    "        [-1, -1, -1]\n",
    "    ]\n",
    "}"
   ]
  },
  {
   "cell_type": "code",
   "execution_count": 9,
   "id": "c4535554",
   "metadata": {},
   "outputs": [
    {
     "name": "stdout",
     "output_type": "stream",
     "text": [
      "-HEBBIAN LEARNING -\n",
      "AND with Binary Input and Binary Output\n",
      " INPUT        TARGET     WEIGHT CHANGES          WEIGHTS         \n",
      "                                              ( 0,  0,  0)\n",
      "({x1:2}, {x2:2}) {y:2} ({x1 y:2}, {x2 y:2}, {y:2}) ({w1:2}, {w2:2}, {b:2})\n",
      "({x1:2}, {x2:2}) {y:2} ({x1 y:2}, {x2 y:2}, {y:2}) ({w1:2}, {w2:2}, {b:2})\n",
      "({x1:2}, {x2:2}) {y:2} ({x1 y:2}, {x2 y:2}, {y:2}) ({w1:2}, {w2:2}, {b:2})\n",
      "({x1:2}, {x2:2}) {y:2} ({x1 y:2}, {x2 y:2}, {y:2}) ({w1:2}, {w2:2}, {b:2})\n",
      "AND with Binary Input and Bipolar Output\n",
      " INPUT        TARGET     WEIGHT CHANGES          WEIGHTS         \n",
      "                                              ( 0,  0,  0)\n",
      "({x1:2}, {x2:2}) {y:2} ({x1 y:2}, {x2 y:2}, {y:2}) ({w1:2}, {w2:2}, {b:2})\n",
      "({x1:2}, {x2:2}) {y:2} ({x1 y:2}, {x2 y:2}, {y:2}) ({w1:2}, {w2:2}, {b:2})\n",
      "({x1:2}, {x2:2}) {y:2} ({x1 y:2}, {x2 y:2}, {y:2}) ({w1:2}, {w2:2}, {b:2})\n",
      "({x1:2}, {x2:2}) {y:2} ({x1 y:2}, {x2 y:2}, {y:2}) ({w1:2}, {w2:2}, {b:2})\n",
      "AND with Bipolar Input and Bipolar Output\n",
      " INPUT        TARGET     WEIGHT CHANGES          WEIGHTS         \n",
      "                                              ( 0,  0,  0)\n",
      "({x1:2}, {x2:2}) {y:2} ({x1 y:2}, {x2 y:2}, {y:2}) ({w1:2}, {w2:2}, {b:2})\n",
      "({x1:2}, {x2:2}) {y:2} ({x1 y:2}, {x2 y:2}, {y:2}) ({w1:2}, {w2:2}, {b:2})\n",
      "({x1:2}, {x2:2}) {y:2} ({x1 y:2}, {x2 y:2}, {y:2}) ({w1:2}, {w2:2}, {b:2})\n",
      "({x1:2}, {x2:2}) {y:2} ({x1 y:2}, {x2 y:2}, {y:2}) ({w1:2}, {w2:2}, {b:2})\n"
     ]
    }
   ],
   "source": [
    "print('-' 'HEBBIAN LEARNING', '-')\n",
    "print('AND with Binary Input and Binary Output')\n",
    "hebbian_learning(AND_samples['binary_input_binary_output'])\n",
    "print('AND with Binary Input and Bipolar Output')\n",
    "hebbian_learning(AND_samples['binary_input_bipolar_output'])\n",
    "print('AND with Bipolar Input and Bipolar Output')\n",
    "hebbian_learning(AND_samples['bipolar_input_bipolar_output'])"
   ]
  },
  {
   "cell_type": "code",
   "execution_count": null,
   "id": "588f5d2d",
   "metadata": {},
   "outputs": [],
   "source": []
  }
 ],
 "metadata": {
  "kernelspec": {
   "display_name": "Python 3 (ipykernel)",
   "language": "python",
   "name": "python3"
  },
  "language_info": {
   "codemirror_mode": {
    "name": "ipython",
    "version": 3
   },
   "file_extension": ".py",
   "mimetype": "text/x-python",
   "name": "python",
   "nbconvert_exporter": "python",
   "pygments_lexer": "ipython3",
   "version": "3.9.7"
  }
 },
 "nbformat": 4,
 "nbformat_minor": 5
}
